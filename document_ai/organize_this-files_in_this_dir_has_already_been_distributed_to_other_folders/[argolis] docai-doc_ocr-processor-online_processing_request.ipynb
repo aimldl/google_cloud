{
 "cells": [
  {
   "cell_type": "markdown",
   "id": "625428e8-e30a-4516-995d-ba7b846c5f27",
   "metadata": {},
   "source": [
    "# Document AI > Oneline Processing\n",
    "- Created: 2024-11-10 (Sat)\n",
    "- Updated: 2024-11-11 (Sun)\n",
    "\n",
    "See [How to use Document AI](https://youtu.be/9izcbNYmP8M?si=T_sPIKV1xZFs5mZu)\n",
    "\n",
    "### Document AI API\n",
    "- Unified Endpoint: documentai.googleapis.com\n",
    "- Universal Document Structure: Document Object\n",
    "\n",
    "### Oneline vs. Batch\n",
    "- Online (Synchronous) API analyzes a single smalle document and get results quickly.\n",
    "- Batch (Asynchronous) API analyzes multiple large documents in a batch and save results to storage.\n",
    "\n",
    "Batch processing uses Long Running Operations to manage requests in an asynchronous manner, so we have to make the request and retrieve the output in a different manner than online processing. However, the output will be in the same Document object format whether using online or batch processing.\n",
    "\n",
    "### Overview of the steps\n",
    "1. Create a Service Account\n",
    "2. Install the Python client libraries for Document AI\n",
    "3. Configure the processor client\n",
    "4. Construct the request\n",
    "5. Call the API\n",
    "6. Analyze the output"
   ]
  },
  {
   "cell_type": "markdown",
   "id": "2d62be21-9fc1-4017-a8c6-21dfbe308b1f",
   "metadata": {},
   "source": [
    "# 1. Create a Service Account\n",
    "- Create a service account for your Document AI application.\n",
    "- Grant this service account the DocumentAI API User role or roles/documentai.apiUser.\n",
    "- This role can be granted on the entire project or on specific processors.\n",
    "\n",
    "# 2. Install the Python client libraries for Document AI"
   ]
  },
  {
   "cell_type": "code",
   "execution_count": 1,
   "id": "d88333a3-fe48-4a17-9ff7-c7cdca6d6982",
   "metadata": {
    "tags": []
   },
   "outputs": [],
   "source": [
    "!pip install --upgrade -q google-cloud-documentai"
   ]
  },
  {
   "cell_type": "markdown",
   "id": "b1725f0b-df90-45c6-bb2c-da9df120cc23",
   "metadata": {},
   "source": [
    "# 3. Configure the processor client"
   ]
  },
  {
   "cell_type": "code",
   "execution_count": 2,
   "id": "298d24ba-2e48-4f79-bc08-26d5a9be9427",
   "metadata": {
    "tags": []
   },
   "outputs": [],
   "source": [
    "import google.cloud.documentai as docai\n",
    "\n",
    "client = docai.DocumentProcessorServiceClient()\n",
    "#opts = {\"api_endpoint\": f\"{location}-documentai.googleapiscom\"}\n",
    "#client = docai.DocumentProcessorServiceClient(client_options=opts)"
   ]
  },
  {
   "cell_type": "markdown",
   "id": "96d0e521-d792-461f-bb2b-f402d756c6e4",
   "metadata": {},
   "source": [
    "# 4. Construct the request\n",
    "Both Project ID & (Doc AI) Processor ID are required."
   ]
  },
  {
   "cell_type": "code",
   "execution_count": 4,
   "id": "c671f896-3bec-4847-a7e4-26d3c491080f",
   "metadata": {
    "tags": []
   },
   "outputs": [],
   "source": [
    "# TODO: Change these variables\n",
    "#project_id   = \"docai-sandbox-439006\"\n",
    "project_id   = \"qwiklabs-gcp-00-be8e83390131\"\n",
    "location     = \"us\"\n",
    "processor_id = \"8b1918585fb64d7e\""
   ]
  },
  {
   "cell_type": "code",
   "execution_count": 5,
   "id": "06740e69-3465-40f0-a264-f1e4b5094686",
   "metadata": {
    "tags": []
   },
   "outputs": [],
   "source": [
    "name = f\"projects/{project_id}/locations/{location}/processors/{processor_id}\"\n",
    "#name = client.processor_path(project_id, location, processor_id)\n",
    "\n",
    "#file_path = '/path/to/local/file.pdf'\n",
    "file_name = \"sample-online-ocr.pdf\"  # TODO: Change this\n",
    "file_path = file_name\n",
    "\n",
    "# Load the document as bytes\n",
    "with open( file_path, 'rb' ) as image:\n",
    "    image_content = image.read()\n",
    "\n",
    "mime_type = 'application/pdf'\n",
    "request = docai.ProcessRequest( name=name, raw_document=docai.RawDocument(content=image_content, mime_type=mime_type),)\n",
    "\n",
    "#raw_document = docai.RawDocument(content=image_content, mime_type=mime_type)\n",
    "#request = docai.ProcessRequest( name=name, raw_document )"
   ]
  },
  {
   "cell_type": "markdown",
   "id": "00de1539-bd78-4013-9934-71fa9dceb333",
   "metadata": {},
   "source": [
    "# 5. Call the API"
   ]
  },
  {
   "cell_type": "code",
   "execution_count": 6,
   "id": "0f4aee4b-fec1-4d4a-a02b-7878e331e523",
   "metadata": {
    "tags": []
   },
   "outputs": [],
   "source": [
    "result = client.process_document(request=request)"
   ]
  },
  {
   "cell_type": "markdown",
   "id": "231b91b8-8516-4093-b231-603c6fc4e938",
   "metadata": {},
   "source": [
    "# 6. Analyze the output"
   ]
  },
  {
   "cell_type": "code",
   "execution_count": 7,
   "id": "a14d255a-c5c0-4e3c-bdc6-433619ce3a43",
   "metadata": {
    "tags": []
   },
   "outputs": [],
   "source": [
    "document = result.document\n",
    "# print(document.text)"
   ]
  },
  {
   "cell_type": "markdown",
   "id": "8af4f890-a5e4-4245-b65a-6574ba1a4591",
   "metadata": {},
   "source": [
    "# 7. (Optional) Create a bucket\n",
    "Grant the roles/storage.admin permission"
   ]
  },
  {
   "cell_type": "code",
   "execution_count": null,
   "id": "b9911175-d0bf-4d82-ae72-050204d9d587",
   "metadata": {
    "tags": []
   },
   "outputs": [
    {
     "name": "stdout",
     "output_type": "stream",
     "text": [
      "API [cloudresourcemanager.googleapis.com] not enabled on project [589241295624].\n",
      " Would you like to enable and retry (this will take a few minutes)? (y/N)?  "
     ]
    }
   ],
   "source": [
    "PROJECT_ID=\"docai-sandbox-439006\"\n",
    "SERVICE_ACCOUNT_EMAIL=\"589241295624-compute@developer.gserviceaccount.com\"\n",
    "\n",
    "!gcloud projects add-iam-policy-binding $PROJECT_ID \\\n",
    "  --member=\"serviceAccount:$SERVICE_ACCOUNT_EMAIL\" \\\n",
    "  --role=\"roles/storage.admin\""
   ]
  },
  {
   "cell_type": "markdown",
   "id": "91cf7e80-1d54-4748-9d82-4aacdaf20f19",
   "metadata": {},
   "source": [
    "## Create a bucket"
   ]
  },
  {
   "cell_type": "code",
   "execution_count": 9,
   "id": "c1341fa7-cfac-4ea6-839d-9c869cc8f0e3",
   "metadata": {
    "tags": []
   },
   "outputs": [],
   "source": [
    "# TODO: Change this. Don't use the leading gs://\n",
    "#bucket_name = \"thekim-cepf-documentai\"\n",
    "bucket_name = \"qwiklabs-gcp-00-be8e83390131-cepf-documentai\""
   ]
  },
  {
   "cell_type": "code",
   "execution_count": 11,
   "id": "63b5a4e9-f60b-45cc-a208-07aced28f0f7",
   "metadata": {
    "tags": []
   },
   "outputs": [],
   "source": [
    "# Create a Cloud Storage client\n",
    "from google.cloud import storage"
   ]
  },
  {
   "cell_type": "code",
   "execution_count": 8,
   "id": "01398512-2ca5-44f9-9f66-b76bd6314a8e",
   "metadata": {
    "tags": []
   },
   "outputs": [
    {
     "ename": "NameError",
     "evalue": "name 'bucket_name' is not defined",
     "output_type": "error",
     "traceback": [
      "\u001b[0;31m---------------------------------------------------------------------------\u001b[0m",
      "\u001b[0;31mNameError\u001b[0m                                 Traceback (most recent call last)",
      "Cell \u001b[0;32mIn[8], line 1\u001b[0m\n\u001b[0;32m----> 1\u001b[0m file \u001b[38;5;241m=\u001b[39m \u001b[43mbucket_name\u001b[49m \u001b[38;5;241m+\u001b[39m \u001b[38;5;124m\"\u001b[39m\u001b[38;5;124m/\u001b[39m\u001b[38;5;124m\"\u001b[39m \u001b[38;5;241m+\u001b[39m file_name\n\u001b[1;32m      2\u001b[0m \u001b[38;5;28mprint\u001b[39m(file)\n\u001b[1;32m      4\u001b[0m \u001b[38;5;66;03m# Create a Cloud Storage client\u001b[39;00m\n",
      "\u001b[0;31mNameError\u001b[0m: name 'bucket_name' is not defined"
     ]
    }
   ],
   "source": [
    "file = bucket_name + \"/\" + file_name\n",
    "print(file)\n",
    "\n",
    "def create_bucket(bucket_name):\n",
    "  storage_client = storage.Client()\n",
    "  bucket = storage_client.bucket(bucket_name)\n",
    "  bucket = storage_client.create_bucket(bucket)\n",
    "\n",
    "  print(f\"Created bucket {bucket.name} with storage class {bucket.storage_class}\")\n",
    "\n",
    "# Call the function to create the bucket\n",
    "# location = \"us\"  # This line is specified above. If not, uncomment it.\n",
    "create_bucket(bucket_name)"
   ]
  },
  {
   "cell_type": "markdown",
   "id": "532f826c-0b5c-4b19-a021-a5a5558219ce",
   "metadata": {},
   "source": [
    "## Save the OCR text to the created bucket"
   ]
  },
  {
   "cell_type": "code",
   "execution_count": 12,
   "id": "3c1ff257-8a05-4a56-ad23-ea49276bab3e",
   "metadata": {
    "tags": []
   },
   "outputs": [
    {
     "name": "stdout",
     "output_type": "stream",
     "text": [
      "bucket=<Bucket: qwiklabs-gcp-00-be8e83390131-cepf-documentai>\n",
      "blob=<Blob: qwiklabs-gcp-00-be8e83390131-cepf-documentai, cepf_online_ocr.txt, None>\n"
     ]
    }
   ],
   "source": [
    "output_file_name = \"cepf_online_ocr.txt\"\n",
    "\n",
    "storage_client = storage.Client()\n",
    "bucket = storage_client.bucket(bucket_name)\n",
    "print(f\"bucket={bucket}\")\n",
    "blob = bucket.blob(output_file_name)\n",
    "#blob = bucket.blob(\"cepf_online_ocr.txt\")\n",
    "print(f\"blob={blob}\")"
   ]
  },
  {
   "cell_type": "code",
   "execution_count": 13,
   "id": "7cdaee87-f75a-4553-9f7e-38d63f89c495",
   "metadata": {
    "tags": []
   },
   "outputs": [
    {
     "name": "stdout",
     "output_type": "stream",
     "text": [
      "OCR text is saved to gs://qwiklabs-gcp-00-be8e83390131-cepf-documentai/cepf_online_ocr.txt\n"
     ]
    }
   ],
   "source": [
    "blob.upload_from_string(document.text)\n",
    "print(f\"OCR text is saved to gs://{bucket_name}/{output_file_name}\")\n",
    "#print(f\"OCR text is saved to gs://{bucket_name}/cepf_online_ocr.txt\")"
   ]
  }
 ],
 "metadata": {
  "environment": {
   "kernel": "conda-base-py",
   "name": "workbench-notebooks.m125",
   "type": "gcloud",
   "uri": "us-docker.pkg.dev/deeplearning-platform-release/gcr.io/workbench-notebooks:m125"
  },
  "kernelspec": {
   "display_name": "Python 3 (ipykernel) (Local)",
   "language": "python",
   "name": "conda-base-py"
  },
  "language_info": {
   "codemirror_mode": {
    "name": "ipython",
    "version": 3
   },
   "file_extension": ".py",
   "mimetype": "text/x-python",
   "name": "python",
   "nbconvert_exporter": "python",
   "pygments_lexer": "ipython3",
   "version": "3.10.15"
  }
 },
 "nbformat": 4,
 "nbformat_minor": 5
}
