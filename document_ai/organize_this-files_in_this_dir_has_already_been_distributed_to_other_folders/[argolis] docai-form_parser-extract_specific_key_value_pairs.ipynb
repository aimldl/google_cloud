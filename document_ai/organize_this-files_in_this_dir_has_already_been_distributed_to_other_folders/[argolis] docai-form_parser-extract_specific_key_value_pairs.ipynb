{
 "cells": [
  {
   "cell_type": "markdown",
   "id": "2589f8bb-eaa3-4a34-a632-e24aeeaca70c",
   "metadata": {},
   "source": [
    "# Extract specific key/value pairs returned from the Form Parser API\n",
    "- Created: 2024-11-10 (Sat)\n",
    "- Updated: 2024-11-11 (Sun)"
   ]
  },
  {
   "cell_type": "code",
   "execution_count": 1,
   "id": "182b5daa-f8f7-467b-ac9e-ea1582656a63",
   "metadata": {
    "tags": []
   },
   "outputs": [],
   "source": [
    "!pip3 install --upgrade -q pandas"
   ]
  },
  {
   "cell_type": "code",
   "execution_count": 2,
   "id": "38db3ea2-78e7-44f4-9b4b-aa9f47c4056e",
   "metadata": {
    "tags": []
   },
   "outputs": [],
   "source": [
    "!pip3 install --upgrade -q google-cloud-documentai"
   ]
  },
  {
   "cell_type": "code",
   "execution_count": 3,
   "id": "fb02c099-fa0a-4d6d-bc3f-824dca35849f",
   "metadata": {
    "tags": []
   },
   "outputs": [],
   "source": [
    "import pandas as pd\n",
    "import google.cloud.documentai as docai\n",
    "#from google.cloud import documentai_v1 as documentai\n",
    "\n",
    "def online_process(\n",
    "    project_id: str,\n",
    "    location: str,\n",
    "    processor_id: str,\n",
    "    file_path: str,\n",
    "    mime_type: str,\n",
    ") -> docai.Document:\n",
    "    \"\"\"\n",
    "    Processes a document using the Document AI Online Processing API.\n",
    "    \"\"\"\n",
    "\n",
    "    opts = {\"api_endpoint\": f\"{location}-documentai.googleapis.com\"}\n",
    "\n",
    "    # Instantiates a client\n",
    "    docai_client = docai.DocumentProcessorServiceClient(client_options=opts)\n",
    "\n",
    "    # The full resource name of the processor, e.g.:\n",
    "    # projects/project-id/locations/location/processor/processor-id\n",
    "    # You must create new processors in the Cloud Console first\n",
    "    resource_name = docai_client.processor_path(project_id, location, processor_id)\n",
    "\n",
    "    # Read the file into memory\n",
    "    with open(file_path, \"rb\") as image:\n",
    "        image_content = image.read()\n",
    "\n",
    "        # Load Binary Data into Document AI RawDocument Object\n",
    "        raw_document = docai.RawDocument(\n",
    "            content=image_content, mime_type=mime_type\n",
    "        )\n",
    "\n",
    "        # Configure the process request\n",
    "        request = docai.ProcessRequest(\n",
    "            name=resource_name, raw_document=raw_document\n",
    "        )\n",
    "\n",
    "        # Use the Document AI client to process the sample form\n",
    "        result = docai_client.process_document(request=request)\n",
    "\n",
    "        return result.document\n",
    "\n",
    "def trim_text(text: str):\n",
    "    \"\"\"\n",
    "    Remove extra space characters from text (blank, newline, tab, etc.)\n",
    "    \"\"\"\n",
    "    return text.strip().replace(\"\\n\", \" \")"
   ]
  },
  {
   "cell_type": "code",
   "execution_count": 7,
   "id": "ad91c7e7-ccf3-426d-ad7a-b247d69b8483",
   "metadata": {
    "tags": []
   },
   "outputs": [],
   "source": [
    "# TODO: Change these variables\n",
    "#PROJECT_ID   = \"docai-sandbox-439006\"\n",
    "PROJECT_ID   = \"qwiklabs-gcp-00-be8e83390131\"\n",
    "LOCATION     = \"us\"  # \"us\" or \"eu\"\n",
    "PROCESSOR_ID = \"fcf4ce1a697a0f44\""
   ]
  },
  {
   "cell_type": "code",
   "execution_count": 8,
   "id": "ddda78bf-a10f-4302-b93d-d1f8f3601096",
   "metadata": {
    "tags": []
   },
   "outputs": [],
   "source": [
    "# The local file in your current working directory\n",
    "FILE_PATH = \"sample-intake-form.pdf\"\n",
    "#FILE_PATH = \"intake-form.pdf\"\n",
    "# Supported MIME_TYPE https://cloud.google.com/document-ai/docs/processors-list\n",
    "MIME_TYPE = \"application/pdf\""
   ]
  },
  {
   "cell_type": "code",
   "execution_count": 9,
   "id": "444d29bc-bce7-414e-8a4a-bcde4e170990",
   "metadata": {
    "tags": []
   },
   "outputs": [
    {
     "name": "stdout",
     "output_type": "stream",
     "text": [
      "                                           Field Name  Field Name Confidence  \\\n",
      "0   Are you currently taking any medication? (If y...               0.943337   \n",
      "1                                           _Phone #:               0.932336   \n",
      "2                                                Zip:               0.914201   \n",
      "3                                               City:               0.900499   \n",
      "4                                              State:               0.893907   \n",
      "5                                                DOB:               0.885175   \n",
      "6                                             Gender:               0.882370   \n",
      "7                                               Name:               0.872789   \n",
      "8                                     Marital Status:               0.852380   \n",
      "9   Describe your medical concerns (symptoms, diag...               0.843905   \n",
      "10                                              Date:               0.829963   \n",
      "11                                           Address:               0.823900   \n",
      "12                                        Occupation:               0.814969   \n",
      "13                                 Emergency Contact:               0.813421   \n",
      "14                                             Email:               0.797409   \n",
      "15                                       Referred By:               0.769416   \n",
      "16                           Emergency Contact Phone:               0.761174   \n",
      "\n",
      "                                          Field Value  Field Value Confidence  \n",
      "0                 Vyvanse (25mg) daily for attention.                0.943337  \n",
      "1                               walker@cmail.com (906                0.932336  \n",
      "2                                               07082                0.914201  \n",
      "3                                              Towaco                0.900499  \n",
      "4                                                  NJ                0.893907  \n",
      "5                                          09/04/1986                0.885175  \n",
      "6                                                   F                0.882370  \n",
      "7                                        Sally Walker                0.872789  \n",
      "8                                              Single                0.852380  \n",
      "9   Ranny nose, mucas in thwat, weakness, aches, c...                0.843905  \n",
      "10                                            9/14/19                0.829963  \n",
      "11                                     24 Barney Lane                0.823900  \n",
      "12                                  Software Engineer                0.814969  \n",
      "13                                         Eva Walker                0.813421  \n",
      "14                            Sally, walker@cmail.com                0.797409  \n",
      "15                                               None                0.769416  \n",
      "16                                      (906)334-8926                0.761174  \n"
     ]
    }
   ],
   "source": [
    "document = online_process(\n",
    "    project_id=PROJECT_ID,\n",
    "    location=LOCATION,\n",
    "    processor_id=PROCESSOR_ID,\n",
    "    file_path=FILE_PATH,\n",
    "    mime_type=MIME_TYPE,\n",
    ")\n",
    "\n",
    "names = []\n",
    "name_confidence = []\n",
    "values = []\n",
    "value_confidence = []\n",
    "\n",
    "for page in document.pages:\n",
    "    for field in page.form_fields:\n",
    "        # Get the extracted field names\n",
    "        names.append(trim_text(field.field_name.text_anchor.content))\n",
    "        # Confidence - How \"sure\" the Model is that the text is correct\n",
    "        name_confidence.append(field.field_name.confidence)\n",
    "\n",
    "        values.append(trim_text(field.field_value.text_anchor.content))\n",
    "        value_confidence.append(field.field_value.confidence)\n",
    "\n",
    "# Create a Pandas Dataframe to print the values in tabular format.\n",
    "df = pd.DataFrame(\n",
    "    {\n",
    "        \"Field Name\": names,\n",
    "        \"Field Name Confidence\": name_confidence,\n",
    "        \"Field Value\": values,\n",
    "        \"Field Value Confidence\": value_confidence,\n",
    "    }\n",
    ")\n",
    "\n",
    "print(df)"
   ]
  },
  {
   "cell_type": "markdown",
   "id": "3c71ba15-160c-418b-8b74-080ac2d435d7",
   "metadata": {},
   "source": [
    "Save the text output into a Cloud Storage Bucket with the filename cepf_form_parser.csv."
   ]
  },
  {
   "cell_type": "code",
   "execution_count": 10,
   "id": "2e9dc35f-c0b1-4619-87db-98dadec22dca",
   "metadata": {
    "tags": []
   },
   "outputs": [],
   "source": [
    "# TODO: Change it. Don't use the leading gs://\n",
    "#bucket_name     = \"thekim-cepf-documentai\"\n",
    "bucket_name     = \"qwiklabs-gcp-00-be8e83390131-cepf-documentai\"\n",
    "input_file_name = \"cepf_form_parser.csv\" "
   ]
  },
  {
   "cell_type": "code",
   "execution_count": 11,
   "id": "3a0b7fe0-dfe1-4bf8-8f95-70d443af1d21",
   "metadata": {
    "tags": []
   },
   "outputs": [
    {
     "name": "stdout",
     "output_type": "stream",
     "text": [
      "File cepf_form_parser.csv uploaded to qwiklabs-gcp-00-be8e83390131-cepf-documentai.\n"
     ]
    }
   ],
   "source": [
    "from google.cloud import storage\n",
    "\n",
    "def upload_to_bucket(bucket_name, input_file_name):\n",
    "    \"\"\"Uploads a file to the bucket.\"\"\"\n",
    "    # Instantiates a client\n",
    "    storage_client = storage.Client()\n",
    "    bucket = storage_client.bucket(bucket_name)\n",
    "    blob = bucket.blob(input_file_name)\n",
    "\n",
    "    blob.upload_from_filename(input_file_name)\n",
    "\n",
    "    print(f\"File {input_file_name} uploaded to {bucket_name}.\")\n",
    "\n",
    "# Save the DataFrame to a CSV file\n",
    "df.to_csv('cepf_form_parser.csv', index=False) \n",
    "upload_to_bucket(bucket_name, input_file_name)"
   ]
  },
  {
   "cell_type": "code",
   "execution_count": null,
   "id": "bc02ca48-2748-4391-a402-9c9211ac190e",
   "metadata": {},
   "outputs": [],
   "source": []
  }
 ],
 "metadata": {
  "environment": {
   "kernel": "conda-base-py",
   "name": "workbench-notebooks.m125",
   "type": "gcloud",
   "uri": "us-docker.pkg.dev/deeplearning-platform-release/gcr.io/workbench-notebooks:m125"
  },
  "kernelspec": {
   "display_name": "Python 3 (ipykernel) (Local)",
   "language": "python",
   "name": "conda-base-py"
  },
  "language_info": {
   "codemirror_mode": {
    "name": "ipython",
    "version": 3
   },
   "file_extension": ".py",
   "mimetype": "text/x-python",
   "name": "python",
   "nbconvert_exporter": "python",
   "pygments_lexer": "ipython3",
   "version": "3.10.15"
  }
 },
 "nbformat": 4,
 "nbformat_minor": 5
}
