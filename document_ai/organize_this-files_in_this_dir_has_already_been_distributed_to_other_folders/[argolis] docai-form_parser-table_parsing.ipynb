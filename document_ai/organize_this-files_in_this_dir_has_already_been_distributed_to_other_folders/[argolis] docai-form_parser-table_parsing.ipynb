{
 "cells": [
  {
   "cell_type": "markdown",
   "id": "ea89ace1-5cdf-45b6-ba9d-5124816b368e",
   "metadata": {},
   "source": [
    "# Table Parsing\n",
    "* Created: 2024-11-10 (Sat)\n",
    "* Updated: 2024-11-11 (Sun)\n",
    "\n",
    "See https://codelabs.developers.google.com/codelabs/docai-form-parser-v1-python?hl=ko#5\n",
    "source: https://github.com/GoogleCloudPlatform/document-ai-samples/blob/main/community/codelabs/docai-form-parser/table_parsing.py"
   ]
  },
  {
   "cell_type": "code",
   "execution_count": 1,
   "id": "3e061cac-11f6-42ab-b203-ed0a409e597d",
   "metadata": {
    "tags": []
   },
   "outputs": [],
   "source": [
    "!pip3 install --upgrade -q pandas"
   ]
  },
  {
   "cell_type": "code",
   "execution_count": 2,
   "id": "267a7160-827c-4f70-84f2-7c9bd4d8c7de",
   "metadata": {
    "tags": []
   },
   "outputs": [],
   "source": [
    "!pip3 install --upgrade -q google-cloud-documentai"
   ]
  },
  {
   "cell_type": "code",
   "execution_count": null,
   "id": "c721a903-3292-4a1f-bc74-9e6cbf9e3779",
   "metadata": {},
   "outputs": [],
   "source": [
    "!gcloud storage cp gs://cloud-samples-data/documentai/codelabs/form-parser/form_with_tables.pdf ."
   ]
  },
  {
   "cell_type": "code",
   "execution_count": 3,
   "id": "5691d91b-3973-4bed-8c19-217ca161d511",
   "metadata": {
    "tags": []
   },
   "outputs": [],
   "source": [
    "\"\"\"\n",
    "Uses Document AI online processing to call a form parser processor\n",
    "Extracts the tables and data in the document.\n",
    "\"\"\"\n",
    "from os.path import splitext\n",
    "from typing import List, Sequence\n",
    "\n",
    "import pandas as pd\n",
    "import google.cloud.documentai as docai\n",
    "#from google.cloud import documentai as docai\n",
    "\n",
    "def online_process(\n",
    "    project_id: str,\n",
    "    location: str,\n",
    "    processor_id: str,\n",
    "    file_path: str,\n",
    "    mime_type: str,\n",
    ") -> docai.Document:\n",
    "    \"\"\"\n",
    "    Processes a document using the Document AI Online Processing API.\n",
    "    \"\"\"\n",
    "\n",
    "    opts = {\"api_endpoint\": f\"{location}-documentai.googleapis.com\"}\n",
    "\n",
    "    # Instantiates a client\n",
    "    docai_client = docai.DocumentProcessorServiceClient(client_options=opts)\n",
    "\n",
    "    # The full resource name of the processor, e.g.:\n",
    "    # projects/project-id/locations/location/processor/processor-id\n",
    "    # You must create new processors in the Cloud Console first\n",
    "    resource_name = docai_client.processor_path(project_id, location, processor_id)\n",
    "\n",
    "    # Read the file into memory\n",
    "    with open(file_path, \"rb\") as image:\n",
    "        image_content = image.read()\n",
    "\n",
    "        # Load Binary Data into Document AI RawDocument Object\n",
    "        raw_document = docai.RawDocument(\n",
    "            content=image_content, mime_type=mime_type\n",
    "        )\n",
    "\n",
    "        # Configure the process request\n",
    "        request = docai.ProcessRequest(\n",
    "            name=resource_name, raw_document=raw_document\n",
    "        )\n",
    "\n",
    "        # Use the Document AI client to process the sample form\n",
    "        result = docai_client.process_document(request=request)\n",
    "\n",
    "        return result.document\n",
    "\n",
    "def get_table_data(\n",
    "    rows: Sequence[docai.Document.Page.Table.TableRow], text: str\n",
    ") -> List[List[str]]:\n",
    "    \"\"\"\n",
    "    Get Text data from table rows\n",
    "    \"\"\"\n",
    "    all_values: List[List[str]] = []\n",
    "    for row in rows:\n",
    "        current_row_values: List[str] = []\n",
    "        for cell in row.cells:\n",
    "            current_row_values.append(\n",
    "                text_anchor_to_text(cell.layout.text_anchor, text)\n",
    "            )\n",
    "        all_values.append(current_row_values)\n",
    "    return all_values\n",
    "\n",
    "def text_anchor_to_text(text_anchor: docai.Document.TextAnchor, text: str) -> str:\n",
    "    \"\"\"\n",
    "    Document AI identifies table data by their offsets in the entirety of the\n",
    "    document's text. This function converts offsets to a string.\n",
    "    \"\"\"\n",
    "    response = \"\"\n",
    "    # If a text segment spans several lines, it will\n",
    "    # be stored in different text segments.\n",
    "    for segment in text_anchor.text_segments:\n",
    "        start_index = int(segment.start_index)\n",
    "        end_index = int(segment.end_index)\n",
    "        response += text[start_index:end_index]\n",
    "    return response.strip().replace(\"\\n\", \" \")"
   ]
  },
  {
   "cell_type": "code",
   "execution_count": 4,
   "id": "e5a920ef-b037-470c-a3ab-ea6b88a09e9f",
   "metadata": {
    "tags": []
   },
   "outputs": [],
   "source": [
    "# TODO: Change these variables\n",
    "#PROJECT_ID   = \"docai-sandbox-439006\"\n",
    "PROJECT_ID   = \"qwiklabs-gcp-00-be8e83390131\"\n",
    "LOCATION     = \"us\"  # \"us\" or \"eu\"\n",
    "PROCESSOR_ID = \"fcf4ce1a697a0f44\""
   ]
  },
  {
   "cell_type": "code",
   "execution_count": 9,
   "id": "221ee1c3-9c71-4ac2-98e1-d59cfab5eb6d",
   "metadata": {
    "tags": []
   },
   "outputs": [],
   "source": [
    "# The local file in your current working directory\n",
    "#FILE_PATH = \"form_with_tables.pdf\"\n",
    "FILE_PATH = \"sample-form-with-table.pdf\"\n",
    "# Supported MIME_TYPE https://cloud.google.com/document-ai/docs/processors-list\n",
    "MIME_TYPE = \"application/pdf\""
   ]
  },
  {
   "cell_type": "code",
   "execution_count": 10,
   "id": "520d1fd8-c944-45d7-8a5d-d1f18f1423cc",
   "metadata": {
    "tags": []
   },
   "outputs": [
    {
     "name": "stdout",
     "output_type": "stream",
     "text": [
      "Page 1 - Table 0\n",
      "     Item    Description\n",
      "0  Item 1  Description 1\n",
      "1  Item 2  Description 2\n",
      "2  Item 3  Description 3\n"
     ]
    }
   ],
   "source": [
    "document = online_process(\n",
    "    project_id=PROJECT_ID,\n",
    "    location=LOCATION,\n",
    "    processor_id=PROCESSOR_ID,\n",
    "    file_path=FILE_PATH,\n",
    "    mime_type=MIME_TYPE,\n",
    ")\n",
    "\n",
    "header_row_values: List[List[str]] = []\n",
    "body_row_values: List[List[str]] = []\n",
    "\n",
    "# Input Filename without extension\n",
    "output_file_prefix = splitext(FILE_PATH)[0]\n",
    "\n",
    "for page in document.pages:\n",
    "    for index, table in enumerate(page.tables):\n",
    "        header_row_values = get_table_data(table.header_rows, document.text)\n",
    "        body_row_values = get_table_data(table.body_rows, document.text)\n",
    "\n",
    "        # Create a Pandas Dataframe to print the values in tabular format.\n",
    "        df = pd.DataFrame(\n",
    "            data=body_row_values,\n",
    "            columns=pd.MultiIndex.from_arrays(header_row_values),\n",
    "        )\n",
    "\n",
    "        print(f\"Page {page.page_number} - Table {index}\")\n",
    "        print(df)\n",
    "\n",
    "        # Save each table as a CSV file\n",
    "        output_filename = f\"{output_file_prefix}_pg{page.page_number}_tb{index}.csv\"\n",
    "        df.to_csv(output_filename, index=False)"
   ]
  },
  {
   "cell_type": "markdown",
   "id": "28f69a5d-f446-47f5-9b8d-431e7037318b",
   "metadata": {},
   "source": [
    "Extract information from the table header rows and body rows and save the table data into a Cloud Storage Bucket with the filename sample-form-with-table-tb0.csv."
   ]
  },
  {
   "cell_type": "code",
   "execution_count": 11,
   "id": "cd72b523-41d8-42e7-81b3-9e26fb307d5e",
   "metadata": {
    "tags": []
   },
   "outputs": [],
   "source": [
    "# TODO: Change it. Don't use the leading gs://\n",
    "#bucket_name     = \"thekim-cepf-documentai\"\n",
    "bucket_name     = \"qwiklabs-gcp-00-be8e83390131-cepf-documentai\"\n",
    "input_file_name = \"sample-form-with-table-tb0.csv\" "
   ]
  },
  {
   "cell_type": "code",
   "execution_count": 12,
   "id": "8ec70272-ad3d-4cc9-aeda-d2303168c5ca",
   "metadata": {
    "tags": []
   },
   "outputs": [
    {
     "name": "stdout",
     "output_type": "stream",
     "text": [
      "File sample-form-with-table-tb0.csv uploaded to qwiklabs-gcp-00-be8e83390131-cepf-documentai.\n"
     ]
    }
   ],
   "source": [
    "from google.cloud import storage\n",
    "\n",
    "def upload_to_bucket(bucket_name, input_file_name):\n",
    "    \"\"\"Uploads a file to the bucket.\"\"\"\n",
    "    # Instantiates a client\n",
    "    storage_client = storage.Client()\n",
    "    bucket = storage_client.bucket(bucket_name)\n",
    "    blob = bucket.blob(input_file_name)\n",
    "\n",
    "    blob.upload_from_filename(input_file_name)\n",
    "\n",
    "    print(f\"File {input_file_name} uploaded to {bucket_name}.\")\n",
    "\n",
    "# Save the DataFrame to a CSV file\n",
    "df.to_csv(input_file_name, index=False) \n",
    "upload_to_bucket(bucket_name, input_file_name)"
   ]
  }
 ],
 "metadata": {
  "environment": {
   "kernel": "conda-base-py",
   "name": "workbench-notebooks.m125",
   "type": "gcloud",
   "uri": "us-docker.pkg.dev/deeplearning-platform-release/gcr.io/workbench-notebooks:m125"
  },
  "kernelspec": {
   "display_name": "Python 3 (ipykernel) (Local)",
   "language": "python",
   "name": "conda-base-py"
  },
  "language_info": {
   "codemirror_mode": {
    "name": "ipython",
    "version": 3
   },
   "file_extension": ".py",
   "mimetype": "text/x-python",
   "name": "python",
   "nbconvert_exporter": "python",
   "pygments_lexer": "ipython3",
   "version": "3.10.15"
  }
 },
 "nbformat": 4,
 "nbformat_minor": 5
}
